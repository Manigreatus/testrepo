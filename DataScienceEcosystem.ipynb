{
 "cells": [
  {
   "cell_type": "markdown",
   "id": "3ba7ec60-b1d9-42d1-bba4-cc6c49fe6a1e",
   "metadata": {},
   "source": [
    "# Data Science Tools and Ecosystem"
   ]
  },
  {
   "cell_type": "markdown",
   "id": "4ce82bb4-46e1-43aa-a70a-1bed53c1409c",
   "metadata": {},
   "source": [
    "##### In this notebook, Data Science Tools and Ecosystem are summarized."
   ]
  },
  {
   "cell_type": "markdown",
   "id": "16cb0838-4154-452c-87c4-1691426ac774",
   "metadata": {},
   "source": [
    "##### Some of the popular languages that Data Scientists use are:"
   ]
  },
  {
   "cell_type": "markdown",
   "id": "2a598e9b-0b4f-4987-8d53-1bc77a3d41f4",
   "metadata": {},
   "source": [
    "##### 1. Python\n",
    "##### 2. R\n",
    "##### 3. SQL\n",
    "##### 4. Java\n",
    "##### 5. C++\n",
    "##### 6. Scala\n",
    "##### 7. Julia\n",
    "##### 8. JavaScript (JS)"
   ]
  },
  {
   "cell_type": "markdown",
   "id": "a89fdd3a-1cb0-4c8f-bd5f-a8d7365c086f",
   "metadata": {},
   "source": [
    "##### Some of the commonly used libraries used by Data Scientists include:"
   ]
  },
  {
   "cell_type": "markdown",
   "id": "97fb8d02-07e3-4b25-b0c3-1553c4e4d1a0",
   "metadata": {},
   "source": [
    "##### 1. NumPy\n",
    "##### 2. Pandas\n",
    "##### 3. SciPy\n",
    "##### 4. Matplotlib"
   ]
  },
  {
   "cell_type": "markdown",
   "id": "5f414236-c8e5-44be-b443-ed9ee4ea1aa3",
   "metadata": {},
   "source": [
    "| __Data Science Tools__ |\n",
    "| ---------------------- |\n",
    "| Jupyter Notebook |\n",
    "| RStudio |\n",
    "| JupyterLab | "
   ]
  },
  {
   "cell_type": "markdown",
   "id": "47995702-9058-4d10-9799-cab293b96d36",
   "metadata": {},
   "source": [
    "### Below are a few examples of evaluating arithmetic expressions in Python."
   ]
  },
  {
   "cell_type": "code",
   "execution_count": 1,
   "id": "34980315-b38d-43f0-bb70-d82f56c97b70",
   "metadata": {},
   "outputs": [
    {
     "data": {
      "text/plain": [
       "17"
      ]
     },
     "execution_count": 1,
     "metadata": {},
     "output_type": "execute_result"
    }
   ],
   "source": [
    "# This a simple arithmetic expression to mutiply then add integers.\n",
    "(3*4)+5"
   ]
  },
  {
   "cell_type": "code",
   "execution_count": 2,
   "id": "492d2fde-4ade-4185-8008-2a298660848d",
   "metadata": {},
   "outputs": [
    {
     "data": {
      "text/plain": [
       "3.3333333333333335"
      ]
     },
     "execution_count": 2,
     "metadata": {},
     "output_type": "execute_result"
    }
   ],
   "source": [
    "# This will convert 200 minutes to hours by diving by 60.\n",
    "200/60"
   ]
  },
  {
   "cell_type": "markdown",
   "id": "8b53b7cc-a477-48f9-8363-dfe8b6311b60",
   "metadata": {},
   "source": [
    "## Objectives:\n",
    "\n",
    "- List of popular programming languages for Data Science.\n",
    "- List of tools used for Data Science.\n",
    "- List of commonly used libraries used by Data Scientists.\n"
   ]
  },
  {
   "cell_type": "markdown",
   "id": "4153cad1-e024-4bdd-9e23-797540bab019",
   "metadata": {},
   "source": [
    "## Author\n",
    "__Imran Yousaf__"
   ]
  },
  {
   "cell_type": "code",
   "execution_count": null,
   "id": "da17d74d-8149-497f-aab7-71e9dca4e1fb",
   "metadata": {},
   "outputs": [],
   "source": []
  }
 ],
 "metadata": {
  "kernelspec": {
   "display_name": "Python [conda env:RP_Env]",
   "language": "python",
   "name": "conda-env-RP_Env-py"
  },
  "language_info": {
   "codemirror_mode": {
    "name": "ipython",
    "version": 3
   },
   "file_extension": ".py",
   "mimetype": "text/x-python",
   "name": "python",
   "nbconvert_exporter": "python",
   "pygments_lexer": "ipython3",
   "version": "3.13.5"
  }
 },
 "nbformat": 4,
 "nbformat_minor": 5
}
